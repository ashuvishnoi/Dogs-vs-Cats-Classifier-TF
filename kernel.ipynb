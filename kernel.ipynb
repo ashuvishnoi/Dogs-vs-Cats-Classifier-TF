{
  "cells": [
    {
      "metadata": {
        "_uuid": "8f2839f25d086af736a60e9eeb907d3b93b6e0e5",
        "_cell_guid": "b1076dfc-b9ad-4769-8c92-a6c4dae69d19",
        "trusted": true
      },
      "cell_type": "code",
      "source": "# This Python 3 environment comes with many helpful analytics libraries installed\n# It is defined by the kaggle/python docker image: https://github.com/kaggle/docker-python\n# For example, here's several helpful packages to load in \n\nimport numpy as np # linear algebra\nimport pandas as pd # data processing, CSV file I/O (e.g. pd.read_csv)\n\n# Input data files are available in the \"../input/\" directory.\n# For example, running this (by clicking run or pressing Shift+Enter) will list the files in the input directory\n\nimport os\nprint(os.listdir(\"../input\"))\nimport cv2\nimport tensorflow as tf\nimport matplotlib.pyplot as plt\n\n# Any results you write to the current directory are saved as output.",
      "execution_count": 84,
      "outputs": [
        {
          "output_type": "stream",
          "text": "['test', 'train', 'sample_submission.csv']\n",
          "name": "stdout"
        }
      ]
    },
    {
      "metadata": {
        "_cell_guid": "79c7e3d0-c299-4dcb-8224-4455121ee9b0",
        "_uuid": "d629ff2d2480ee46fbb7e2d37f6b5fab8052498a",
        "trusted": true
      },
      "cell_type": "code",
      "source": "TRAIN_DIR = '../input/train/'\nTEST_DIR = '../input/test/'\n\nROWS = 64\nCOLS = 64\nCHANNELS = 3\n\ntrain_images = [TRAIN_DIR+i for i in os.listdir(TRAIN_DIR)] # use this for full dataset\ntrain_dogs =   [TRAIN_DIR+i for i in os.listdir(TRAIN_DIR) if 'dog' in i]\ntrain_cats =   [TRAIN_DIR+i for i in os.listdir(TRAIN_DIR) if 'cat' in i]\n\ntest_images =  [TEST_DIR+i for i in os.listdir(TEST_DIR)]",
      "execution_count": 85,
      "outputs": []
    },
    {
      "metadata": {
        "trusted": true,
        "_uuid": "d9d62c270db6133a9a18d7558893682dcc8194e8"
      },
      "cell_type": "code",
      "source": "import random\ncats=train_cats[:1000]\ndogs=train_dogs[:1000]\ntrain=cats+dogs\nrandom.shuffle(train)\ntest =  test_images[:25]",
      "execution_count": 86,
      "outputs": []
    },
    {
      "metadata": {
        "trusted": true,
        "_uuid": "032db90e3c9543c1f81a5e14f7c30e65072d9491"
      },
      "cell_type": "code",
      "source": "a=cv2.imread(train[0])\nrows = 64\ncol = 64\ncha= 3",
      "execution_count": 87,
      "outputs": []
    },
    {
      "metadata": {
        "trusted": true,
        "_uuid": "e08a2f7aad62410d2a3b26d35a55a02362b07631"
      },
      "cell_type": "code",
      "source": "len(test)",
      "execution_count": 88,
      "outputs": [
        {
          "output_type": "execute_result",
          "execution_count": 88,
          "data": {
            "text/plain": "25"
          },
          "metadata": {}
        }
      ]
    },
    {
      "metadata": {
        "trusted": true,
        "_uuid": "ee330d891fa51bd293d821ee0b6a917568939f3f"
      },
      "cell_type": "code",
      "source": "def process(passs):\n    count=len(passs)\n    data = np.ndarray((count, CHANNELS, ROWS, COLS), dtype=np.uint8)\n    for i in range(len(passs)):\n        a=cv2.imread(passs[i])\n        a=cv2.resize(a,(rows,col))\n        data[i]=a.T\n    return data",
      "execution_count": 89,
      "outputs": []
    },
    {
      "metadata": {
        "trusted": true,
        "_uuid": "73ed486d3b3daee831111c8da8b7ac34a30055d8"
      },
      "cell_type": "code",
      "source": "data=process(train)\ndatat=process(test)\nb=data[0][0]\nb.shape",
      "execution_count": 90,
      "outputs": [
        {
          "output_type": "execute_result",
          "execution_count": 90,
          "data": {
            "text/plain": "(64, 64)"
          },
          "metadata": {}
        }
      ]
    },
    {
      "metadata": {
        "trusted": true,
        "_uuid": "4da4c562db1e31085800dafe572cbc485299e29f"
      },
      "cell_type": "code",
      "source": "plt.imshow(data[0].T)",
      "execution_count": 91,
      "outputs": [
        {
          "output_type": "execute_result",
          "execution_count": 91,
          "data": {
            "text/plain": "<matplotlib.image.AxesImage at 0x7fe8a4025748>"
          },
          "metadata": {}
        },
        {
          "output_type": "display_data",
          "data": {
            "text/plain": "<Figure size 432x288 with 1 Axes>",
            "image/png": "[encoded data removed]"
          },
          "metadata": {}
        }
      ]
    },
    {
      "metadata": {
        "trusted": true,
        "_uuid": "c3b2d6d0ebac9afa3c9967d29ba1620c832f22a8"
      },
      "cell_type": "code",
      "source": "#by tensowflow\nimport tensorflow as tf\n\ndef process(image):\n    images=[]\n    a=tf.placeholder(dtype=tf.string)\n    b=tf.read_file(a)\n    c=tf.image.decode_jpeg(b)\n    \n    \n    with tf.Session() as sess:\n        for i in range(len(image)):\n            images.append(sess.run(c,feed_dict={a:image[i]}))\n    sess.close()\n    return(images)",
      "execution_count": 92,
      "outputs": []
    },
    {
      "metadata": {
        "trusted": true,
        "_uuid": "cdae3d0feefcd64ae97db96d941e1e13891000a4"
      },
      "cell_type": "code",
      "source": "datat=process(test)",
      "execution_count": 93,
      "outputs": []
    },
    {
      "metadata": {
        "trusted": true,
        "_uuid": "25dd74190246b6ce4dc5a47b13a59539bfa06477"
      },
      "cell_type": "code",
      "source": "#neural network using tensorflow",
      "execution_count": 94,
      "outputs": []
    },
    {
      "metadata": {
        "trusted": true,
        "_uuid": "9511760c7dc466fbd616fe0ccf2b400d5f609871"
      },
      "cell_type": "code",
      "source": "data.shape",
      "execution_count": 95,
      "outputs": [
        {
          "output_type": "execute_result",
          "execution_count": 95,
          "data": {
            "text/plain": "(2000, 3, 64, 64)"
          },
          "metadata": {}
        }
      ]
    },
    {
      "metadata": {
        "trusted": true,
        "_uuid": "7b47465ed963b0d068c31eaa2456a67513768cbc"
      },
      "cell_type": "code",
      "source": "",
      "execution_count": null,
      "outputs": []
    },
    {
      "metadata": {
        "trusted": true,
        "_uuid": "537b7e163703ca765ffd0d3689ec55bc2e2e0c38"
      },
      "cell_type": "code",
      "source": "a=data[0]",
      "execution_count": 96,
      "outputs": []
    },
    {
      "metadata": {
        "trusted": true,
        "_uuid": "27349140cf884860c9e741b46d7323d3308acc99"
      },
      "cell_type": "code",
      "source": "b=a.T\nb.shape",
      "execution_count": 97,
      "outputs": [
        {
          "output_type": "execute_result",
          "execution_count": 97,
          "data": {
            "text/plain": "(64, 64, 3)"
          },
          "metadata": {}
        }
      ]
    },
    {
      "metadata": {
        "trusted": true,
        "_uuid": "959c547377bafab9a9465696dfacc6546edab526"
      },
      "cell_type": "code",
      "source": "x=np.ndarray((2000,64,64,3),dtype=np.uint8)\nx1=np.ndarray((25,64,64,3),dtype=np.uint8)\nfor i in range(len(train)):\n    a=data[i]\n    a=a.T\n    x[i]=a\nfor i in range(len(test)):\n    a=datat[i]\n    a=a.T\n    x1[i]=a\n    ",
      "execution_count": 98,
      "outputs": [
        {
          "output_type": "error",
          "ename": "ValueError",
          "evalue": "could not broadcast input array from shape (3,500,430) into shape (64,64,3)",
          "traceback": [
            "\u001b[0;31m---------------------------------------------------------------------------\u001b[0m",
            "\u001b[0;31mValueError\u001b[0m                                Traceback (most recent call last)",
            "\u001b[0;32m<ipython-input-98-fbe508130cef>\u001b[0m in \u001b[0;36m<module>\u001b[0;34m()\u001b[0m\n\u001b[1;32m      8\u001b[0m     \u001b[0ma\u001b[0m\u001b[0;34m=\u001b[0m\u001b[0mdatat\u001b[0m\u001b[0;34m[\u001b[0m\u001b[0mi\u001b[0m\u001b[0;34m]\u001b[0m\u001b[0;34m\u001b[0m\u001b[0m\n\u001b[1;32m      9\u001b[0m     \u001b[0ma\u001b[0m\u001b[0;34m=\u001b[0m\u001b[0ma\u001b[0m\u001b[0;34m.\u001b[0m\u001b[0mT\u001b[0m\u001b[0;34m\u001b[0m\u001b[0m\n\u001b[0;32m---> 10\u001b[0;31m     \u001b[0mx1\u001b[0m\u001b[0;34m[\u001b[0m\u001b[0mi\u001b[0m\u001b[0;34m]\u001b[0m\u001b[0;34m=\u001b[0m\u001b[0ma\u001b[0m\u001b[0;34m\u001b[0m\u001b[0m\n\u001b[0m\u001b[1;32m     11\u001b[0m \u001b[0;34m\u001b[0m\u001b[0m\n",
            "\u001b[0;31mValueError\u001b[0m: could not broadcast input array from shape (3,500,430) into shape (64,64,3)"
          ]
        }
      ]
    },
    {
      "metadata": {
        "trusted": true,
        "_uuid": "a8a78bee8b7524ca3c1c03e6681e838463f69404"
      },
      "cell_type": "code",
      "source": "print(x.shape)\nprint(x1.shape)",
      "execution_count": 99,
      "outputs": [
        {
          "output_type": "stream",
          "text": "(2000, 64, 64, 3)\n(25, 64, 64, 3)\n",
          "name": "stdout"
        }
      ]
    },
    {
      "metadata": {
        "trusted": true,
        "_uuid": "83300a5437525b1b5d1ac34c80910efbcfecbb62"
      },
      "cell_type": "code",
      "source": "labels = []\nfor i in train:\n    if 'dog' in i:\n        labels.append(1)\n    else:\n        labels.append(0)",
      "execution_count": 100,
      "outputs": []
    },
    {
      "metadata": {
        "trusted": true,
        "_uuid": "ce7deed40b9aefb24ad38b8dcc4faf8199a5c5f7"
      },
      "cell_type": "code",
      "source": "\ntf.reset_default_graph()",
      "execution_count": 101,
      "outputs": []
    },
    {
      "metadata": {
        "trusted": true,
        "_uuid": "ad8d30723e4dee37b7c2c92f78f63962ddf4fb04"
      },
      "cell_type": "code",
      "source": "Xf = x.reshape(x.shape[0],-1).T\nX1f = x1.reshape(x1.shape[0],-1).T",
      "execution_count": 102,
      "outputs": []
    },
    {
      "metadata": {
        "trusted": true,
        "_uuid": "1d7c53aec93823a1579e1d250976472b70fab8c8"
      },
      "cell_type": "code",
      "source": "X1f.shape",
      "execution_count": 103,
      "outputs": [
        {
          "output_type": "execute_result",
          "execution_count": 103,
          "data": {
            "text/plain": "(12288, 25)"
          },
          "metadata": {}
        }
      ]
    },
    {
      "metadata": {
        "trusted": true,
        "_uuid": "a7e090d32abd6894f5150f73ecd9a6413fab2e78"
      },
      "cell_type": "code",
      "source": "X = tf.placeholder(tf.float32, [12288, None], name=\"X\")\nY=  tf.placeholder(tf.float32,[1,None],name=\"Y\")",
      "execution_count": 104,
      "outputs": []
    },
    {
      "metadata": {
        "trusted": true,
        "_uuid": "87378e97c46e4d468aeaf5482013a8d5d8877507"
      },
      "cell_type": "code",
      "source": "\ntf.set_random_seed(1)\nw1 = tf.get_variable(\"w1\", [25,12288], initializer = tf.contrib.layers.xavier_initializer(seed = 1))\nb1 = tf.get_variable(\"b1\", [25,1], initializer = tf.zeros_initializer())\nw2 = tf.get_variable(\"w2\", [12,25], initializer = tf.contrib.layers.xavier_initializer(seed = 1))\nb2 = tf.get_variable(\"b2\", [12,1], initializer = tf.zeros_initializer())\nw3 = tf.get_variable(\"w3\", [6,12], initializer = tf.contrib.layers.xavier_initializer(seed = 1))\nb3 = tf.get_variable(\"b3\", [6,1], initializer = tf.zeros_initializer())\nw4 = tf.get_variable(\"w4\", [1,6], initializer = tf.contrib.layers.xavier_initializer(seed = 1))\nb4 = tf.get_variable(\"b4\", [1,1], initializer = tf.zeros_initializer())",
      "execution_count": 105,
      "outputs": []
    },
    {
      "metadata": {
        "trusted": true,
        "_uuid": "e842dc2c1b75d7f098457944a39dfc1bfbfd32fb"
      },
      "cell_type": "code",
      "source": "Z1 = tf.matmul(w1, X) + b1                                               # Z1 = np.dot(W1, X) + b1\nA1 = tf.nn.relu(Z1)                                             # A1 = relu(Z1)\nZ2 = tf.matmul(w2, A1) + b2                                              # Z2 = np.dot(W2, a1) + b2\nA2 = tf.nn.relu(Z2)                                              # A2 = relu(Z2)\nZ3 = tf.matmul(w3, A2) + b3\nA3=tf.nn.relu(Z3)\nZ4=tf.matmul(w4,A3) + b4\nA4=tf.sigmoid(Z4)",
      "execution_count": 106,
      "outputs": []
    },
    {
      "metadata": {
        "trusted": true,
        "_uuid": "f16e3a909e3d77e23c3c00d63a5250456bf43222"
      },
      "cell_type": "code",
      "source": "logits = tf.transpose(A4)\n\n    \n    ### START CODE HERE ### (1 line of code)\ncost = tf.reduce_mean(tf.nn.softmax_cross_entropy_with_logits(logits = logits, labels = labels))",
      "execution_count": 107,
      "outputs": []
    },
    {
      "metadata": {
        "trusted": true,
        "_uuid": "078993b7a2c2c67946ea1e9343d805cade926f1e"
      },
      "cell_type": "code",
      "source": " optimizer = tf.train.AdamOptimizer(learning_rate=0.0001).minimize(cost)",
      "execution_count": 108,
      "outputs": []
    },
    {
      "metadata": {
        "trusted": true,
        "_uuid": "11f6451649a5f82b9818db37a80d310461a90858"
      },
      "cell_type": "code",
      "source": "init = tf.global_variables_initializer()",
      "execution_count": 109,
      "outputs": []
    },
    {
      "metadata": {
        "trusted": true,
        "scrolled": true,
        "_uuid": "0b753bf09b54baa4b2df4ab5deb1af9c3f966e92"
      },
      "cell_type": "code",
      "source": "labels=np.array(labels)\nlabels=labels.reshape(2000,1)\nlabels=labels.T\nwith tf.Session() as sess:\n        sess.run(init)\n        for j in range(10):\n            sess.run([cost,optimizer],feed_dict={X:Xf, Y:labels})\n            if (i==20):\n                print('20 done')    ",
      "execution_count": null,
      "outputs": []
    },
    {
      "metadata": {
        "trusted": true,
        "_uuid": "bc87386e0780fd30acee861e5360c26370c4e092"
      },
      "cell_type": "code",
      "source": "print(labels.shape)\nprint(Y)\nprint(Xf.shape)\nprint(X)",
      "execution_count": null,
      "outputs": []
    },
    {
      "metadata": {
        "trusted": true,
        "_uuid": "9cb0ed6cf1933ab09cde5cb6b65992521016d93a"
      },
      "cell_type": "code",
      "source": "q=Xf.T[0].reshape(12288,1)",
      "execution_count": null,
      "outputs": []
    },
    {
      "metadata": {
        "trusted": true,
        "_uuid": "32f7c0d2f44fd6c02b6c5f3cbba2c356c694e5ca"
      },
      "cell_type": "code",
      "source": "type(Xf)",
      "execution_count": null,
      "outputs": []
    },
    {
      "metadata": {
        "trusted": true,
        "_uuid": "fc0ba23ba9d933b082a180a65ba9127a39cbd90d"
      },
      "cell_type": "code",
      "source": "w=np.array(labels[4])",
      "execution_count": null,
      "outputs": []
    },
    {
      "metadata": {
        "trusted": true,
        "_uuid": "449b3786c135b8cbd68c87b8d30cba6cc0cbc610"
      },
      "cell_type": "code",
      "source": "q=w.reshape(1,1)",
      "execution_count": null,
      "outputs": []
    },
    {
      "metadata": {
        "trusted": true,
        "_uuid": "33ed9b1899ba5458f9d4ed66f7755d131be3ac85"
      },
      "cell_type": "code",
      "source": "q.shape",
      "execution_count": null,
      "outputs": []
    },
    {
      "metadata": {
        "trusted": true,
        "_uuid": "eaf6e8c592c365c87bf4fc9f2781be5b3c26392b"
      },
      "cell_type": "code",
      "source": "\n            ",
      "execution_count": null,
      "outputs": []
    },
    {
      "metadata": {
        "trusted": true,
        "_uuid": "2d6fe42c2b53f87aa0d39b718ece532e930cd917"
      },
      "cell_type": "code",
      "source": "",
      "execution_count": null,
      "outputs": []
    }
  ],
  "metadata": {
    "kernelspec": {
      "display_name": "Python 3",
      "language": "python",
      "name": "python3"
    },
    "language_info": {
      "name": "python",
      "version": "3.6.6",
      "mimetype": "text/x-python",
      "codemirror_mode": {
        "name": "ipython",
        "version": 3
      },
      "pygments_lexer": "ipython3",
      "nbconvert_exporter": "python",
      "file_extension": ".py"
    }
  },
  "nbformat": 4,
  "nbformat_minor": 1
}